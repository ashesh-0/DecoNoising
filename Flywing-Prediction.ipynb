{
 "cells": [
  {
   "cell_type": "markdown",
   "metadata": {},
   "source": [
    "# Network Prediction\n",
    "Please run the ```Convallaria-Training.ipynb``` before."
   ]
  },
  {
   "cell_type": "code",
   "execution_count": null,
   "metadata": {},
   "outputs": [],
   "source": [
    "import warnings\n",
    "warnings.filterwarnings('ignore')\n",
    "import matplotlib.pyplot as plt\n",
    "import numpy as np\n",
    "import torch\n",
    "from tifffile import imread\n",
    "import sys\n",
    "sys.path.append('..')\n",
    "from unet.model import UNet\n",
    "from deconoising.utils import PSNR\n",
    "from deconoising import utils\n",
    "from deconoising import prediction\n",
    "\n",
    "# See if we can use a GPU\n",
    "device=utils.getDevice()"
   ]
  },
  {
   "cell_type": "markdown",
   "metadata": {},
   "source": [
    "### Load Data"
   ]
  },
  {
   "cell_type": "code",
   "execution_count": null,
   "metadata": {},
   "outputs": [],
   "source": [
    "# We need the training data in order to calulate 'mean' and 'std' for normalization\n",
    "fpath='/home/ubuntu/ashesh/data/Flywing/Flywing_n10/test/test_data.npz'\n",
    "# Load the test data\n",
    "data_dict = np.load(fpath)\n",
    "X_test = data_dict['X_test']\n",
    "# X_train = data_dict['X_train']\n",
    "# X_val = data_dict['X_val']\n"
   ]
  },
  {
   "cell_type": "code",
   "execution_count": null,
   "metadata": {},
   "outputs": [],
   "source": [
    "from deconoising.synthetic_data_generator import PSFspecify, create_dataset\n",
    "from deconoising.training import artificial_psf\n",
    "\n",
    "psf_list = [PSFspecify(81,3)]\n",
    "psf_tensor_list = [artificial_psf(psf.size, psf.std) for psf in psf_list]\n",
    "\n",
    "convolvedGT = create_dataset(torch.Tensor(X_test[:,None]), psf_list).numpy()[:,0]\n",
    "noisyGT =X_test\n",
    "# dataTest =convolved_data[:,0]"
   ]
  },
  {
   "cell_type": "markdown",
   "metadata": {},
   "source": [
    "### Load the Network\n",
    "Ensure that ```dataName``` is set same as in ```Convallaria-Training.ipynb```."
   ]
  },
  {
   "cell_type": "code",
   "execution_count": null,
   "metadata": {},
   "outputs": [],
   "source": [
    "# ! ls /home/ubuntu/ashesh/data/Flywing/Flywing_n10/train/best*"
   ]
  },
  {
   "cell_type": "code",
   "execution_count": null,
   "metadata": {},
   "outputs": [],
   "source": [
    "# Load the network, created in the 'Convallaria-Training.ipynb' notebook\n",
    "net = torch.load(f\"/home/ubuntu/ashesh/data/Flywing/Flywing_n10/train/best_N2V_N5_Avg3.5_20230428_21.29.net\")"
   ]
  },
  {
   "cell_type": "markdown",
   "metadata": {},
   "source": [
    "### Evaluation"
   ]
  },
  {
   "cell_type": "code",
   "execution_count": null,
   "metadata": {},
   "outputs": [],
   "source": [
    "index = 1\n",
    "im = convolvedGT[index]\n",
    "deconvolvedResult, denoisedResult = prediction.tiledPredict(im, net ,ps=256, \n",
    "                                                            overlap=48, \n",
    "                                                            device=device,\n",
    "                                                            psf_list=psf_tensor_list)"
   ]
  },
  {
   "cell_type": "code",
   "execution_count": null,
   "metadata": {},
   "outputs": [],
   "source": [
    "deconvolvedResult.shape"
   ]
  },
  {
   "cell_type": "code",
   "execution_count": null,
   "metadata": {},
   "outputs": [],
   "source": []
  },
  {
   "cell_type": "code",
   "execution_count": null,
   "metadata": {},
   "outputs": [],
   "source": [
    "crop_sz = 64\n",
    "h = np.random.randint(im.shape[0] - crop_sz)\n",
    "w = np.random.randint(im.shape[1] - crop_sz)\n",
    "print(h,w,crop_sz)\n",
    "_,ax = plt.subplots(figsize=(20,5),ncols=4)\n",
    "ax[0].imshow(im[h:h+crop_sz,w:w+crop_sz])\n",
    "if denoisedResult is not None:\n",
    "    ax[1].imshow(denoisedResult[h:h+crop_sz,w:w+crop_sz])\n",
    "\n",
    "ax[2].imshow(noisyGT[index][h:h+crop_sz,w:w+crop_sz])\n",
    "ax[3].imshow(deconvolvedResult[h:h+crop_sz,w:w+crop_sz])"
   ]
  },
  {
   "cell_type": "code",
   "execution_count": null,
   "metadata": {},
   "outputs": [],
   "source": [
    "# Now we are processing data and calculating PSNR values.\n",
    "\n",
    "psnr_input = []\n",
    "psnrNoisyGT_denoised_prediction = []\n",
    "psnrNoisyGT_denoised_deconvolved_prediction = []\n",
    "psnrConvolvedGT_denoised_prediction = []\n",
    "psnrConvolvedGT_denoised_deconvolved_prediction = []\n",
    "\n",
    "# We iterate over all test images.\n",
    "for index in range(convolvedGT.shape[0]):\n",
    "    \n",
    "    im = convolvedGT[index]\n",
    "    \n",
    "    # We are using tiling to fit the image into memory\n",
    "    # If you get an error try a smaller patch size (ps)\n",
    "    # Here we are predicting the deconvolved and denoised image\n",
    "    deconvolvedResult, denoisedResult = prediction.tiledPredict(im, net ,ps=256, overlap=48, device=device,\n",
    "                                                                psf_list=psf_tensor_list)\n",
    "    \n",
    "    # calculate PSNR\n",
    "    gt = noisyGT[index]\n",
    "    rangePSNR = np.max(gt) - np.min(gt)\n",
    "    psnr_input.append(PSNR(gt, im, rangePSNR)) \n",
    "\n",
    "\n",
    "    if denoisedResult is not None:\n",
    "        psnrNoisyGT_denoised_prediction.append(PSNR(gt, denoisedResult, rangePSNR))\n",
    "    psnrNoisyGT_denoised_deconvolved_prediction.append(PSNR(gt, deconvolvedResult, rangePSNR))\n",
    "    \n",
    "    gt = convolvedGT[index]\n",
    "    rangePSNR = np.max(gt) - np.min(gt)\n",
    "    if denoisedResult is not None:\n",
    "        psnrConvolvedGT_denoised_prediction.append(PSNR(gt, denoisedResult, rangePSNR))\n",
    "    psnrConvolvedGT_denoised_deconvolved_prediction.append(PSNR(gt, deconvolvedResult, rangePSNR))\n",
    "\n",
    "\n",
    "print(\"Avg PSNR input:\", np.mean(np.array(psnr_input)).round(2),  '+-(2SEM)', (2*np.std(np.array(psnr_input))/np.sqrt(float(len(psnr_input)))).round(2))\n",
    "if denoisedResult is not None:\n",
    "    print(\"[NoisyGT]: Avg PSNR denoised\", np.mean(np.array(psnrNoisyGT_denoised_prediction)).round(2),  \n",
    "          '+-(2SEM)', (2*np.std(np.array(psnrNoisyGT_denoised_prediction))/np.sqrt(float(len(psnrNoisyGT_denoised_prediction)))).round(2))\n",
    "print(\"[NoisyGT]: Avg PSNR denoised & deconvolved\", np.mean(np.array(psnrNoisyGT_denoised_deconvolved_prediction)).round(2),  \n",
    "      '+-(2SEM)', (2*np.std(np.array(psnrNoisyGT_denoised_deconvolved_prediction))/np.sqrt(float(len(psnrNoisyGT_denoised_deconvolved_prediction)))).round(2))\n",
    "\n",
    "if denoisedResult is not None:\n",
    "    print(\"[ConvolvedGT]: Avg PSNR denoised\", np.mean(np.array(psnrConvolvedGT_denoised_prediction)).round(2),  \n",
    "          '+-(2SEM)', (2*np.std(np.array(psnrConvolvedGT_denoised_prediction))/np.sqrt(float(len(psnrConvolvedGT_denoised_prediction)))).round(2))\n",
    "print(\"[ConvolvedGT]: Avg PSNR denoised & deconvolved\", np.mean(np.array(psnrConvolvedGT_denoised_deconvolved_prediction)).round(2),  \n",
    "      '+-(2SEM)', (2*np.std(np.array(psnrConvolvedGT_denoised_deconvolved_prediction))/np.sqrt(float(len(psnrConvolvedGT_denoised_deconvolved_prediction)))).round(2))"
   ]
  },
  {
   "cell_type": "code",
   "execution_count": null,
   "metadata": {},
   "outputs": [],
   "source": [
    "# We display the results for the last test image       \n",
    "vmi=np.percentile(gt,0.01)\n",
    "vma=np.percentile(gt,99)\n",
    "\n",
    "if denoisedResult is not None:\n",
    "    plt.imshow(denoisedResult[100:200,150:250], vmax=vma, vmin=vmi, cmap='magma')\n",
    "\n",
    "\n",
    "plt.figure(figsize=(15, 15))\n",
    "plt.subplot(1, 3, 1)\n",
    "plt.title('Input image')\n",
    "plt.imshow(im, vmax=vma, vmin=vmi, cmap='magma')\n",
    "\n",
    "plt.subplot(1, 3, 2)\n",
    "plt.title('Deconv. output')\n",
    "plt.imshow(deconvolvedResult, vmax=vma, vmin=vmi, cmap='magma')\n",
    "\n",
    "\n",
    "plt.subplot(1, 3, 3)\n",
    "plt.title('Denoised output')\n",
    "if denoisedResult is not None:\n",
    "    plt.imshow(denoisedResult, vmax=vma, vmin=vmi, cmap='magma')\n",
    "\n",
    "plt.figure(figsize=(15, 15))\n",
    "plt.subplot(1, 3, 1)\n",
    "plt.title('Input image')\n",
    "plt.imshow(im[100:200,150:250], vmax=vma, vmin=vmi, cmap='magma')\n",
    "\n",
    "plt.subplot(1, 3, 2)\n",
    "plt.title('Deconv. output')\n",
    "plt.imshow(deconvolvedResult[100:200,150:250], vmax=vma, vmin=vmi, cmap='magma')\n",
    "\n",
    "plt.subplot(1, 3, 3)\n",
    "plt.title('Denoised output')"
   ]
  },
  {
   "cell_type": "code",
   "execution_count": null,
   "metadata": {},
   "outputs": [],
   "source": []
  }
 ],
 "metadata": {
  "kernelspec": {
   "display_name": "Disentangle",
   "language": "python",
   "name": "python3"
  },
  "language_info": {
   "codemirror_mode": {
    "name": "ipython",
    "version": 3
   },
   "file_extension": ".py",
   "mimetype": "text/x-python",
   "name": "python",
   "nbconvert_exporter": "python",
   "pygments_lexer": "ipython3",
   "version": "3.9.16 (main, Mar  8 2023, 14:00:05) \n[GCC 11.2.0]"
  },
  "vscode": {
   "interpreter": {
    "hash": "068447a931bb4d6daeb83e04642366c1566a738715bf5337ac3a4c0e721de6b4"
   }
  }
 },
 "nbformat": 4,
 "nbformat_minor": 2
}
